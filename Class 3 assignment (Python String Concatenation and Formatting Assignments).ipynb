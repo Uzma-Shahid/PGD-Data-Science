{
 "cells": [
  {
   "cell_type": "markdown",
   "id": "225b1433",
   "metadata": {},
   "source": [
    "# Assignment 1:String Concatenation and Formatting "
   ]
  },
  {
   "cell_type": "markdown",
   "id": "90c54f19",
   "metadata": {},
   "source": [
    "**Instructions:**\n",
    "\n",
    "1. Create a variable `name` and assign your name to it.\n",
    "2. Create a variable `age` and assign your age to it.\n",
    "3. Create a variable `country` and assign your country of residence to it.\n",
    "4. Using the `+` operator, concatenate the variables to form a sentence in the following format: \"My name is `<name>`, I am `<age>` years old, and I live in `<country>`.\"\n",
    "5. Print the concatenated sentence"
   ]
  },
  {
   "cell_type": "code",
   "execution_count": 5,
   "id": "abe0248b",
   "metadata": {},
   "outputs": [
    {
     "name": "stdout",
     "output_type": "stream",
     "text": [
      "My name is Uzma, I am 35 years old, and I live in Pakistan.\n"
     ]
    }
   ],
   "source": [
    "name = \"Uzma\"\n",
    "age = 35\n",
    "country = \"Pakistan.\"\n",
    "\n",
    "profile = \"My name is \"+name+ \", I am \"+str(age)+\" years old, and I live in \"+country\n",
    "print(profile)"
   ]
  },
  {
   "cell_type": "markdown",
   "id": "d585b21d",
   "metadata": {},
   "source": [
    "# Assignment 2: String Formatting using `.format()' \n"
   ]
  },
  {
   "cell_type": "markdown",
   "id": "cd7b60b4",
   "metadata": {},
   "source": [
    "**Instructions:**\n",
    "\n",
    "1. Create a variable `item` and assign a product name to it (e.g., \"laptop\", \"book\", \"phone\").\n",
    "2. Create a variable `price` and assign a price to the item.\n",
    "3. Create a variable `quantity` and assign a quantity value.\n",
    "4. Calculate the total cost using the formula: `total_cost = price * quantity`.\n",
    "5. Using the `.format()` method, create a formatted string: \"I bought `<quantity>` `<item>`(s) at `<price>` each, for a total of $`<total_cost>`.\"\n",
    "6. Print the formatted string."
   ]
  },
  {
   "cell_type": "code",
   "execution_count": 6,
   "id": "6a70c662",
   "metadata": {},
   "outputs": [
    {
     "name": "stdout",
     "output_type": "stream",
     "text": [
      "I bought 3 laptops at 2100 each, for a total of $6300.\n"
     ]
    }
   ],
   "source": [
    "item = \"laptop\"\n",
    "price = 2100\n",
    "quantity = 3\n",
    "total_cost = price*quantity\n",
    "\n",
    "text = \"I bought {2} {0}s at {1} each, for a total of ${3}.\".format(item,price,quantity,total_cost)\n",
    "print(text)"
   ]
  },
  {
   "cell_type": "markdown",
   "id": "40167408",
   "metadata": {},
   "source": [
    "# Assignment 2: String Interpolation using `f' "
   ]
  },
  {
   "cell_type": "markdown",
   "id": "9cf5f877",
   "metadata": {},
   "source": [
    "**Instructions:**\n",
    "\n",
    "1. Create a variable `city` and assign the name of a city.\n",
    "2. Create a variable `temperature` and assign a temperature value in Celsius.\n",
    "3. Using `f''` string interpolation, create a string: \"The temperature in `<city>` is `<temperature>`°C.\"\n",
    "4. Print the interpolated string."
   ]
  },
  {
   "cell_type": "code",
   "execution_count": 9,
   "id": "84c05d62",
   "metadata": {},
   "outputs": [
    {
     "name": "stdout",
     "output_type": "stream",
     "text": [
      "The temperature in Karachi is 30°C.\n"
     ]
    }
   ],
   "source": [
    "city = \"Karachi\"\n",
    "temperature = 30\n",
    "x = f\"The temperature in {city} is {temperature}°C.\"\n",
    "\n",
    "print(x)"
   ]
  },
  {
   "cell_type": "markdown",
   "id": "0400035e",
   "metadata": {},
   "source": [
    "# Assignment 4: String Formatting using `%()`"
   ]
  },
  {
   "cell_type": "markdown",
   "id": "306832c4",
   "metadata": {},
   "source": [
    "**Instructions:**\n",
    "\n",
    "1. Create a variable `first_name` and assign your first name to it.\n",
    "2. Create a variable `last_name` and assign your last name to it.\n",
    "3. Create a variable `birth_year` and assign your birth year.\n",
    "4. Calculate your age using the formula: `age = current_year - birth_year`, where `current_year` is the current year.\n",
    "5. Using `%()` string formatting, create a string: \"My name is %(first_name)s %(last_name)s. I am %(age)d years old.\"\n",
    "6. Print the formatted string."
   ]
  },
  {
   "cell_type": "code",
   "execution_count": 11,
   "id": "755e6942",
   "metadata": {},
   "outputs": [
    {
     "name": "stdout",
     "output_type": "stream",
     "text": [
      "My name is Syeda Shahid. I am 37 years old.\n",
      "37\n"
     ]
    }
   ],
   "source": [
    "first_name = \"Syeda\"\n",
    "last_name = \"Shahid\"\n",
    "birth_year = 1986\n",
    "current_year = 2023\n",
    "y = (current_year -birth_year)\n",
    "x = \"My name is %s %s. I am %d years old.\"%(first_name,last_name,y)\n",
    "print(x)\n",
    "print(y)"
   ]
  },
  {
   "cell_type": "markdown",
   "id": "fa269ad9",
   "metadata": {},
   "source": [
    "# Assignment 5: Combining Formatting Methods**"
   ]
  },
  {
   "cell_type": "markdown",
   "id": "35d47f32",
   "metadata": {},
   "source": [
    "**Instructions:**\n",
    "\n",
    "1. Create a variable `product` and assign a product name.\n",
    "2. Create a variable `discount` and assign a discount percentage.\n",
    "3. Create a variable `original_price` and assign an original price.\n",
    "4. Calculate the discounted price using the formula: `discounted_price = original_price * (1 - discount / 100)`.\n",
    "5. Using any combination of string formatting methods (`+`, `.format()`, `f''`, `%()`), create a descriptive string with the product name, original price, discount percentage, and discounted price.\n",
    "6. Print the descriptive string."
   ]
  },
  {
   "cell_type": "code",
   "execution_count": 18,
   "id": "21a38e24",
   "metadata": {},
   "outputs": [
    {
     "name": "stdout",
     "output_type": "stream",
     "text": [
      "200.0\n"
     ]
    }
   ],
   "source": [
    "product = \"Tablet\"\n",
    "original_price = 250\n",
    "discount = 20\n",
    "discounted_price = original_price-(original_price*discount / 100)\n",
    "\n",
    "print(discounted_price)"
   ]
  },
  {
   "cell_type": "code",
   "execution_count": 19,
   "id": "35bc2924",
   "metadata": {},
   "outputs": [
    {
     "name": "stdout",
     "output_type": "stream",
     "text": [
      "product = Tablet\n",
      "original_price = £250\n",
      "discount = 20%\n",
      "discounted_price = £200.0\n"
     ]
    }
   ],
   "source": [
    "product = \"Tablet\"\n",
    "original_price = 250\n",
    "discount = 20\n",
    "discounted_price = original_price*(1 -  discount / 100)\n",
    "\n",
    "Format = (\"product = \"+product+\"\\noriginal_price = \"+\"£\"+str(original_price)+\"\\ndiscount = \"+\\\n",
    "          str(discount)+\"%\"+\"\\ndiscounted_price = \"+ \"£\"+str(discounted_price))\n",
    "\n",
    "print(Format)"
   ]
  },
  {
   "cell_type": "code",
   "execution_count": 20,
   "id": "5629ebe8",
   "metadata": {},
   "outputs": [
    {
     "name": "stdout",
     "output_type": "stream",
     "text": [
      "product = Tablet\n",
      "original_price = £250\n",
      "discount = 20%\n",
      "discounted_price = £200.0\n"
     ]
    }
   ],
   "source": [
    "product = \"Tablet\"\n",
    "original_price = 250\n",
    "discount = 20\n",
    "discounted_price = original_price*(1 -  discount / 100)\n",
    "\n",
    "Spec_card = \"\"\"product = {}\n",
    "original_price = £{}\n",
    "discount = {}%\n",
    "discounted_price = £{}\"\"\".format(product,original_price,discount,discounted_price)\n",
    "\n",
    "print(Spec_card)"
   ]
  },
  {
   "cell_type": "code",
   "execution_count": 21,
   "id": "e0e49771",
   "metadata": {},
   "outputs": [
    {
     "name": "stdout",
     "output_type": "stream",
     "text": [
      "product = Tablet\n",
      "orignal_price = £250\n",
      "promotion = 20%\n",
      "promotion_price = £200.0\n"
     ]
    }
   ],
   "source": [
    "product = \"Tablet\"\n",
    "original_price = 250\n",
    "discount = 20\n",
    "discounted_price = original_price*(1 -  discount / 100)\n",
    "\n",
    "Spec = f\"\"\"product = {product}\n",
    "orignal_price = £{original_price}\n",
    "promotion = {discount}%\n",
    "promotion_price = £{discounted_price}\"\"\"\n",
    "\n",
    "print(Spec)"
   ]
  },
  {
   "cell_type": "code",
   "execution_count": 24,
   "id": "0552ea50",
   "metadata": {},
   "outputs": [
    {
     "name": "stdout",
     "output_type": "stream",
     "text": [
      "product = Tablet\n",
      "original_price = £250\n",
      "discount = 20%\n",
      "discounted_price = £200\n"
     ]
    }
   ],
   "source": [
    "product = \"Tablet\"\n",
    "original_price = 250\n",
    "discount = 20\n",
    "discounted_price = original_price*(1 -  discount / 100)\n",
    "\n",
    "card = \"product = %s\\\n",
    "\\noriginal_price = £%d\\\n",
    "\\ndiscount = %d%s\\\n",
    "\\ndiscounted_price = £%d\"%(product,original_price,discount,\"%\",discounted_price)\n",
    "\n",
    "print(card)"
   ]
  },
  {
   "cell_type": "code",
   "execution_count": 23,
   "id": "85e9ad84",
   "metadata": {},
   "outputs": [
    {
     "name": "stdout",
     "output_type": "stream",
     "text": [
      "product = Tablet \n",
      "original_price = £250 \n",
      "discount = 20% \n",
      "discounted_price = £200\n"
     ]
    }
   ],
   "source": [
    "product = \"Tablet\"\n",
    "original_price = 250\n",
    "discount = 20\n",
    "discounted_price = original_price*(1 -  discount / 100)\n",
    "\n",
    "card = \"product = %s \\noriginal_price = £%d \\ndiscount = %d%s \\ndiscounted_price = £%d\"%(product,original_price,discount,\"%\",discounted_price)\n",
    "\n",
    "print(card)"
   ]
  }
 ],
 "metadata": {
  "kernelspec": {
   "display_name": "Python 3 (ipykernel)",
   "language": "python",
   "name": "python3"
  },
  "language_info": {
   "codemirror_mode": {
    "name": "ipython",
    "version": 3
   },
   "file_extension": ".py",
   "mimetype": "text/x-python",
   "name": "python",
   "nbconvert_exporter": "python",
   "pygments_lexer": "ipython3",
   "version": "3.11.3"
  }
 },
 "nbformat": 4,
 "nbformat_minor": 5
}
